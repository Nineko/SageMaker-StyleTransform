import sagemaker
from sagemaker.pytorch import PyTorch

sagemaker_session = sagemaker.Session()
region = sagemaker_session.boto_region_name

bucket = sagemaker_session.default_bucket()
prefix = "sagemaker/StyleTransformV1"

role = sagemaker.get_execution_role()

style_path = 's3://s3-bucket-name/TrainImg/Style'
content_path = 's3://s3-bucket-name/TrainImg/Content'

estimator = PyTorch(
    entry_point="Transform.py",
    role=role,
    py_version="py310",
    framework_version="2.2.0",
    instance_count=1,
    instance_type="ml.m5.xlarge",
    output_path="s3://s3-bucket-name/Result/",
    hyperparameters={"num-steps": 150},
    dependencies=['Utils','VGG19PreTrain']
)

estimator.fit({"content": content_path,
               "style": style_path})
